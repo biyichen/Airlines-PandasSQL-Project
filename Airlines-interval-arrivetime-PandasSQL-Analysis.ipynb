{
 "cells": [
  {
   "cell_type": "markdown",
   "metadata": {},
   "source": [
    "#### Import the pandas and warnings packages and reading the files"
   ]
  },
  {
   "cell_type": "code",
   "execution_count": 76,
   "metadata": {
    "collapsed": true
   },
   "outputs": [],
   "source": [
    "import pandas as pd\n",
    "import warnings\n",
    "warnings.filterwarnings(action='once')"
   ]
  },
  {
   "cell_type": "markdown",
   "metadata": {},
   "source": [
    "#### Import the required datatime package"
   ]
  },
  {
   "cell_type": "code",
   "execution_count": 77,
   "metadata": {
    "collapsed": true
   },
   "outputs": [],
   "source": [
    "import datetime\n",
    "from datetime import timedelta"
   ]
  },
  {
   "cell_type": "markdown",
   "metadata": {},
   "source": [
    "Read the following files:\n",
    "\n",
    "- airlines.csv\n",
    "- airports.csv\n",
    "- flights.csv\n",
    "- planes.csv\n",
    "- weather.csv"
   ]
  },
  {
   "cell_type": "code",
   "execution_count": 78,
   "metadata": {
    "collapsed": true
   },
   "outputs": [],
   "source": [
    "airlines = pd.read_csv('airlines.csv')\n",
    "airports = pd.read_csv('airports.csv')\n",
    "flights = pd.read_csv('flights.csv')\n",
    "planes = pd.read_csv('planes.csv')\n",
    "weather = pd.read_csv('weather.csv')"
   ]
  },
  {
   "cell_type": "code",
   "execution_count": 79,
   "metadata": {},
   "outputs": [
    {
     "data": {
      "text/html": [
       "<div>\n",
       "<table border=\"1\" class=\"dataframe\">\n",
       "  <thead>\n",
       "    <tr style=\"text-align: right;\">\n",
       "      <th></th>\n",
       "      <th>Unnamed: 0</th>\n",
       "      <th>carrier</th>\n",
       "      <th>name</th>\n",
       "    </tr>\n",
       "  </thead>\n",
       "  <tbody>\n",
       "    <tr>\n",
       "      <th>0</th>\n",
       "      <td>1</td>\n",
       "      <td>9E</td>\n",
       "      <td>Endeavor Air Inc.</td>\n",
       "    </tr>\n",
       "    <tr>\n",
       "      <th>1</th>\n",
       "      <td>2</td>\n",
       "      <td>AA</td>\n",
       "      <td>American Airlines Inc.</td>\n",
       "    </tr>\n",
       "    <tr>\n",
       "      <th>2</th>\n",
       "      <td>3</td>\n",
       "      <td>AS</td>\n",
       "      <td>Alaska Airlines Inc.</td>\n",
       "    </tr>\n",
       "    <tr>\n",
       "      <th>3</th>\n",
       "      <td>4</td>\n",
       "      <td>B6</td>\n",
       "      <td>JetBlue Airways</td>\n",
       "    </tr>\n",
       "    <tr>\n",
       "      <th>4</th>\n",
       "      <td>5</td>\n",
       "      <td>DL</td>\n",
       "      <td>Delta Air Lines Inc.</td>\n",
       "    </tr>\n",
       "  </tbody>\n",
       "</table>\n",
       "</div>"
      ],
      "text/plain": [
       "   Unnamed: 0 carrier                    name\n",
       "0           1      9E       Endeavor Air Inc.\n",
       "1           2      AA  American Airlines Inc.\n",
       "2           3      AS    Alaska Airlines Inc.\n",
       "3           4      B6         JetBlue Airways\n",
       "4           5      DL    Delta Air Lines Inc."
      ]
     },
     "execution_count": 79,
     "metadata": {},
     "output_type": "execute_result"
    }
   ],
   "source": [
    "airlines.head()"
   ]
  },
  {
   "cell_type": "code",
   "execution_count": 80,
   "metadata": {
    "scrolled": false
   },
   "outputs": [
    {
     "name": "stdout",
     "output_type": "stream",
     "text": [
      "The airlines files has 16 rows\n",
      "The airports files has 1458 rows\n",
      "The flights files has 336776 rows\n",
      "The planes files has 3322 rows\n",
      "The weather files has 26130 rows\n"
     ]
    }
   ],
   "source": [
    "print(\"The airlines files has {:d} rows\".format(airlines.shape[0]))\n",
    "print(\"The airports files has {:d} rows\".format(airports.shape[0]))\n",
    "print(\"The flights files has {:d} rows\".format(flights.shape[0]))\n",
    "print(\"The planes files has {:d} rows\".format(planes.shape[0]))\n",
    "print(\"The weather files has {:d} rows\".format(weather.shape[0]))"
   ]
  },
  {
   "cell_type": "markdown",
   "metadata": {},
   "source": [
    "# After reading the files I will use the following steps:\n",
    "1. I want to create file with arrival times and destinations only\n",
    "\n",
    "2. To do that I will perform a series of ata manipulations shown below\n",
    "\n",
    "3. The essential idea is to get data in form that can be ingested by the datetime function\n",
    "\n",
    "4. Haved the data avalible to use. I will identify the five busiest airportw based on the number of arrivals per day\n",
    "\n",
    "6. create five separate datasets for each of the five airports\n",
    "\n",
    "7. Finally, provide the answers in the format requested"
   ]
  },
  {
   "cell_type": "markdown",
   "metadata": {},
   "source": [
    "#### Start by investigating the relevant dataset"
   ]
  },
  {
   "cell_type": "code",
   "execution_count": 81,
   "metadata": {},
   "outputs": [
    {
     "data": {
      "text/html": [
       "<div>\n",
       "<table border=\"1\" class=\"dataframe\">\n",
       "  <thead>\n",
       "    <tr style=\"text-align: right;\">\n",
       "      <th></th>\n",
       "      <th>Unnamed: 0</th>\n",
       "      <th>year</th>\n",
       "      <th>month</th>\n",
       "      <th>day</th>\n",
       "      <th>dep_time</th>\n",
       "      <th>sched_dep_time</th>\n",
       "      <th>dep_delay</th>\n",
       "      <th>arr_time</th>\n",
       "      <th>sched_arr_time</th>\n",
       "      <th>arr_delay</th>\n",
       "      <th>carrier</th>\n",
       "      <th>flight</th>\n",
       "      <th>tailnum</th>\n",
       "      <th>origin</th>\n",
       "      <th>dest</th>\n",
       "      <th>air_time</th>\n",
       "      <th>distance</th>\n",
       "      <th>hour</th>\n",
       "      <th>minute</th>\n",
       "      <th>time_hour</th>\n",
       "    </tr>\n",
       "  </thead>\n",
       "  <tbody>\n",
       "    <tr>\n",
       "      <th>0</th>\n",
       "      <td>1</td>\n",
       "      <td>2013</td>\n",
       "      <td>1</td>\n",
       "      <td>1</td>\n",
       "      <td>517.0</td>\n",
       "      <td>515</td>\n",
       "      <td>2.0</td>\n",
       "      <td>830.0</td>\n",
       "      <td>819</td>\n",
       "      <td>11.0</td>\n",
       "      <td>UA</td>\n",
       "      <td>1545</td>\n",
       "      <td>N14228</td>\n",
       "      <td>EWR</td>\n",
       "      <td>IAH</td>\n",
       "      <td>227.0</td>\n",
       "      <td>1400</td>\n",
       "      <td>5</td>\n",
       "      <td>15</td>\n",
       "      <td>2013-01-01 05:00:00</td>\n",
       "    </tr>\n",
       "    <tr>\n",
       "      <th>1</th>\n",
       "      <td>2</td>\n",
       "      <td>2013</td>\n",
       "      <td>1</td>\n",
       "      <td>1</td>\n",
       "      <td>533.0</td>\n",
       "      <td>529</td>\n",
       "      <td>4.0</td>\n",
       "      <td>850.0</td>\n",
       "      <td>830</td>\n",
       "      <td>20.0</td>\n",
       "      <td>UA</td>\n",
       "      <td>1714</td>\n",
       "      <td>N24211</td>\n",
       "      <td>LGA</td>\n",
       "      <td>IAH</td>\n",
       "      <td>227.0</td>\n",
       "      <td>1416</td>\n",
       "      <td>5</td>\n",
       "      <td>29</td>\n",
       "      <td>2013-01-01 05:00:00</td>\n",
       "    </tr>\n",
       "    <tr>\n",
       "      <th>2</th>\n",
       "      <td>3</td>\n",
       "      <td>2013</td>\n",
       "      <td>1</td>\n",
       "      <td>1</td>\n",
       "      <td>542.0</td>\n",
       "      <td>540</td>\n",
       "      <td>2.0</td>\n",
       "      <td>923.0</td>\n",
       "      <td>850</td>\n",
       "      <td>33.0</td>\n",
       "      <td>AA</td>\n",
       "      <td>1141</td>\n",
       "      <td>N619AA</td>\n",
       "      <td>JFK</td>\n",
       "      <td>MIA</td>\n",
       "      <td>160.0</td>\n",
       "      <td>1089</td>\n",
       "      <td>5</td>\n",
       "      <td>40</td>\n",
       "      <td>2013-01-01 05:00:00</td>\n",
       "    </tr>\n",
       "    <tr>\n",
       "      <th>3</th>\n",
       "      <td>4</td>\n",
       "      <td>2013</td>\n",
       "      <td>1</td>\n",
       "      <td>1</td>\n",
       "      <td>544.0</td>\n",
       "      <td>545</td>\n",
       "      <td>-1.0</td>\n",
       "      <td>1004.0</td>\n",
       "      <td>1022</td>\n",
       "      <td>-18.0</td>\n",
       "      <td>B6</td>\n",
       "      <td>725</td>\n",
       "      <td>N804JB</td>\n",
       "      <td>JFK</td>\n",
       "      <td>BQN</td>\n",
       "      <td>183.0</td>\n",
       "      <td>1576</td>\n",
       "      <td>5</td>\n",
       "      <td>45</td>\n",
       "      <td>2013-01-01 05:00:00</td>\n",
       "    </tr>\n",
       "    <tr>\n",
       "      <th>4</th>\n",
       "      <td>5</td>\n",
       "      <td>2013</td>\n",
       "      <td>1</td>\n",
       "      <td>1</td>\n",
       "      <td>554.0</td>\n",
       "      <td>600</td>\n",
       "      <td>-6.0</td>\n",
       "      <td>812.0</td>\n",
       "      <td>837</td>\n",
       "      <td>-25.0</td>\n",
       "      <td>DL</td>\n",
       "      <td>461</td>\n",
       "      <td>N668DN</td>\n",
       "      <td>LGA</td>\n",
       "      <td>ATL</td>\n",
       "      <td>116.0</td>\n",
       "      <td>762</td>\n",
       "      <td>6</td>\n",
       "      <td>0</td>\n",
       "      <td>2013-01-01 06:00:00</td>\n",
       "    </tr>\n",
       "  </tbody>\n",
       "</table>\n",
       "</div>"
      ],
      "text/plain": [
       "   Unnamed: 0  year  month  day  dep_time  sched_dep_time  dep_delay  \\\n",
       "0           1  2013      1    1     517.0             515        2.0   \n",
       "1           2  2013      1    1     533.0             529        4.0   \n",
       "2           3  2013      1    1     542.0             540        2.0   \n",
       "3           4  2013      1    1     544.0             545       -1.0   \n",
       "4           5  2013      1    1     554.0             600       -6.0   \n",
       "\n",
       "   arr_time  sched_arr_time  arr_delay carrier  flight tailnum origin dest  \\\n",
       "0     830.0             819       11.0      UA    1545  N14228    EWR  IAH   \n",
       "1     850.0             830       20.0      UA    1714  N24211    LGA  IAH   \n",
       "2     923.0             850       33.0      AA    1141  N619AA    JFK  MIA   \n",
       "3    1004.0            1022      -18.0      B6     725  N804JB    JFK  BQN   \n",
       "4     812.0             837      -25.0      DL     461  N668DN    LGA  ATL   \n",
       "\n",
       "   air_time  distance  hour  minute            time_hour  \n",
       "0     227.0      1400     5      15  2013-01-01 05:00:00  \n",
       "1     227.0      1416     5      29  2013-01-01 05:00:00  \n",
       "2     160.0      1089     5      40  2013-01-01 05:00:00  \n",
       "3     183.0      1576     5      45  2013-01-01 05:00:00  \n",
       "4     116.0       762     6       0  2013-01-01 06:00:00  "
      ]
     },
     "execution_count": 81,
     "metadata": {},
     "output_type": "execute_result"
    }
   ],
   "source": [
    "flights.head()"
   ]
  },
  {
   "cell_type": "markdown",
   "metadata": {},
   "source": [
    "#### Keep the required fields only"
   ]
  },
  {
   "cell_type": "code",
   "execution_count": 82,
   "metadata": {},
   "outputs": [
    {
     "data": {
      "text/html": [
       "<div>\n",
       "<table border=\"1\" class=\"dataframe\">\n",
       "  <thead>\n",
       "    <tr style=\"text-align: right;\">\n",
       "      <th></th>\n",
       "      <th>year</th>\n",
       "      <th>month</th>\n",
       "      <th>day</th>\n",
       "      <th>arr_time</th>\n",
       "      <th>dest</th>\n",
       "    </tr>\n",
       "  </thead>\n",
       "  <tbody>\n",
       "    <tr>\n",
       "      <th>0</th>\n",
       "      <td>2013</td>\n",
       "      <td>1</td>\n",
       "      <td>1</td>\n",
       "      <td>830.0</td>\n",
       "      <td>IAH</td>\n",
       "    </tr>\n",
       "    <tr>\n",
       "      <th>1</th>\n",
       "      <td>2013</td>\n",
       "      <td>1</td>\n",
       "      <td>1</td>\n",
       "      <td>850.0</td>\n",
       "      <td>IAH</td>\n",
       "    </tr>\n",
       "    <tr>\n",
       "      <th>2</th>\n",
       "      <td>2013</td>\n",
       "      <td>1</td>\n",
       "      <td>1</td>\n",
       "      <td>923.0</td>\n",
       "      <td>MIA</td>\n",
       "    </tr>\n",
       "    <tr>\n",
       "      <th>3</th>\n",
       "      <td>2013</td>\n",
       "      <td>1</td>\n",
       "      <td>1</td>\n",
       "      <td>1004.0</td>\n",
       "      <td>BQN</td>\n",
       "    </tr>\n",
       "    <tr>\n",
       "      <th>4</th>\n",
       "      <td>2013</td>\n",
       "      <td>1</td>\n",
       "      <td>1</td>\n",
       "      <td>812.0</td>\n",
       "      <td>ATL</td>\n",
       "    </tr>\n",
       "  </tbody>\n",
       "</table>\n",
       "</div>"
      ],
      "text/plain": [
       "   year  month  day  arr_time dest\n",
       "0  2013      1    1     830.0  IAH\n",
       "1  2013      1    1     850.0  IAH\n",
       "2  2013      1    1     923.0  MIA\n",
       "3  2013      1    1    1004.0  BQN\n",
       "4  2013      1    1     812.0  ATL"
      ]
     },
     "execution_count": 82,
     "metadata": {},
     "output_type": "execute_result"
    }
   ],
   "source": [
    "flights = flights[['year', 'month', 'day', 'arr_time', 'dest']]\n",
    "flights.head()"
   ]
  },
  {
   "cell_type": "markdown",
   "metadata": {},
   "source": [
    "#### Identify if there are any missing values or NaNs in the dataset"
   ]
  },
  {
   "cell_type": "code",
   "execution_count": 83,
   "metadata": {},
   "outputs": [
    {
     "data": {
      "text/plain": [
       "year           0\n",
       "month          0\n",
       "day            0\n",
       "arr_time    8713\n",
       "dest           0\n",
       "dtype: int64"
      ]
     },
     "execution_count": 83,
     "metadata": {},
     "output_type": "execute_result"
    }
   ],
   "source": [
    "flights.isnull().sum() "
   ]
  },
  {
   "cell_type": "markdown",
   "metadata": {},
   "source": [
    "#### Clearly the only NaNs are in the arr_time column, So delete those rows"
   ]
  },
  {
   "cell_type": "code",
   "execution_count": 84,
   "metadata": {},
   "outputs": [
    {
     "data": {
      "text/plain": [
       "year        0\n",
       "month       0\n",
       "day         0\n",
       "arr_time    0\n",
       "dest        0\n",
       "dtype: int64"
      ]
     },
     "execution_count": 84,
     "metadata": {},
     "output_type": "execute_result"
    }
   ],
   "source": [
    "flights = flights[pd.notnull(flights['arr_time'])]\n",
    "flights.isnull().sum() "
   ]
  },
  {
   "cell_type": "markdown",
   "metadata": {},
   "source": [
    "#### The next three steps are required to\n",
    "- convert arr_time to int\n",
    "- then to string\n",
    "- then to pad the left by a zero\n",
    "\n",
    "to ensure that there are two numbers for hours and two numbers for minutes"
   ]
  },
  {
   "cell_type": "markdown",
   "metadata": {},
   "source": [
    "#### Convert arr_time to int"
   ]
  },
  {
   "cell_type": "code",
   "execution_count": 85,
   "metadata": {},
   "outputs": [
    {
     "data": {
      "text/html": [
       "<div>\n",
       "<table border=\"1\" class=\"dataframe\">\n",
       "  <thead>\n",
       "    <tr style=\"text-align: right;\">\n",
       "      <th></th>\n",
       "      <th>year</th>\n",
       "      <th>month</th>\n",
       "      <th>day</th>\n",
       "      <th>arr_time</th>\n",
       "      <th>dest</th>\n",
       "    </tr>\n",
       "  </thead>\n",
       "  <tbody>\n",
       "    <tr>\n",
       "      <th>0</th>\n",
       "      <td>2013</td>\n",
       "      <td>1</td>\n",
       "      <td>1</td>\n",
       "      <td>830</td>\n",
       "      <td>IAH</td>\n",
       "    </tr>\n",
       "    <tr>\n",
       "      <th>1</th>\n",
       "      <td>2013</td>\n",
       "      <td>1</td>\n",
       "      <td>1</td>\n",
       "      <td>850</td>\n",
       "      <td>IAH</td>\n",
       "    </tr>\n",
       "    <tr>\n",
       "      <th>2</th>\n",
       "      <td>2013</td>\n",
       "      <td>1</td>\n",
       "      <td>1</td>\n",
       "      <td>923</td>\n",
       "      <td>MIA</td>\n",
       "    </tr>\n",
       "    <tr>\n",
       "      <th>3</th>\n",
       "      <td>2013</td>\n",
       "      <td>1</td>\n",
       "      <td>1</td>\n",
       "      <td>1004</td>\n",
       "      <td>BQN</td>\n",
       "    </tr>\n",
       "    <tr>\n",
       "      <th>4</th>\n",
       "      <td>2013</td>\n",
       "      <td>1</td>\n",
       "      <td>1</td>\n",
       "      <td>812</td>\n",
       "      <td>ATL</td>\n",
       "    </tr>\n",
       "  </tbody>\n",
       "</table>\n",
       "</div>"
      ],
      "text/plain": [
       "   year  month  day  arr_time dest\n",
       "0  2013      1    1       830  IAH\n",
       "1  2013      1    1       850  IAH\n",
       "2  2013      1    1       923  MIA\n",
       "3  2013      1    1      1004  BQN\n",
       "4  2013      1    1       812  ATL"
      ]
     },
     "execution_count": 85,
     "metadata": {},
     "output_type": "execute_result"
    }
   ],
   "source": [
    "flights.arr_time = flights.arr_time.astype(int)\n",
    "flights.head()"
   ]
  },
  {
   "cell_type": "markdown",
   "metadata": {},
   "source": [
    "#### Convert arr_time to str"
   ]
  },
  {
   "cell_type": "code",
   "execution_count": 86,
   "metadata": {},
   "outputs": [
    {
     "data": {
      "text/html": [
       "<div>\n",
       "<table border=\"1\" class=\"dataframe\">\n",
       "  <thead>\n",
       "    <tr style=\"text-align: right;\">\n",
       "      <th></th>\n",
       "      <th>year</th>\n",
       "      <th>month</th>\n",
       "      <th>day</th>\n",
       "      <th>arr_time</th>\n",
       "      <th>dest</th>\n",
       "    </tr>\n",
       "  </thead>\n",
       "  <tbody>\n",
       "    <tr>\n",
       "      <th>0</th>\n",
       "      <td>2013</td>\n",
       "      <td>1</td>\n",
       "      <td>1</td>\n",
       "      <td>830</td>\n",
       "      <td>IAH</td>\n",
       "    </tr>\n",
       "    <tr>\n",
       "      <th>1</th>\n",
       "      <td>2013</td>\n",
       "      <td>1</td>\n",
       "      <td>1</td>\n",
       "      <td>850</td>\n",
       "      <td>IAH</td>\n",
       "    </tr>\n",
       "    <tr>\n",
       "      <th>2</th>\n",
       "      <td>2013</td>\n",
       "      <td>1</td>\n",
       "      <td>1</td>\n",
       "      <td>923</td>\n",
       "      <td>MIA</td>\n",
       "    </tr>\n",
       "    <tr>\n",
       "      <th>3</th>\n",
       "      <td>2013</td>\n",
       "      <td>1</td>\n",
       "      <td>1</td>\n",
       "      <td>1004</td>\n",
       "      <td>BQN</td>\n",
       "    </tr>\n",
       "    <tr>\n",
       "      <th>4</th>\n",
       "      <td>2013</td>\n",
       "      <td>1</td>\n",
       "      <td>1</td>\n",
       "      <td>812</td>\n",
       "      <td>ATL</td>\n",
       "    </tr>\n",
       "  </tbody>\n",
       "</table>\n",
       "</div>"
      ],
      "text/plain": [
       "   year  month  day arr_time dest\n",
       "0  2013      1    1      830  IAH\n",
       "1  2013      1    1      850  IAH\n",
       "2  2013      1    1      923  MIA\n",
       "3  2013      1    1     1004  BQN\n",
       "4  2013      1    1      812  ATL"
      ]
     },
     "execution_count": 86,
     "metadata": {},
     "output_type": "execute_result"
    }
   ],
   "source": [
    "flights.arr_time = flights.arr_time.astype(str)\n",
    "flights.head()"
   ]
  },
  {
   "cell_type": "markdown",
   "metadata": {},
   "source": [
    "#### Pad arr_time on the left with zero nd ensure a 4 character string\n",
    "- first two characters for hour\n",
    "- last two characters for minutes"
   ]
  },
  {
   "cell_type": "code",
   "execution_count": 87,
   "metadata": {},
   "outputs": [
    {
     "data": {
      "text/html": [
       "<div>\n",
       "<table border=\"1\" class=\"dataframe\">\n",
       "  <thead>\n",
       "    <tr style=\"text-align: right;\">\n",
       "      <th></th>\n",
       "      <th>year</th>\n",
       "      <th>month</th>\n",
       "      <th>day</th>\n",
       "      <th>arr_time</th>\n",
       "      <th>dest</th>\n",
       "    </tr>\n",
       "  </thead>\n",
       "  <tbody>\n",
       "    <tr>\n",
       "      <th>0</th>\n",
       "      <td>2013</td>\n",
       "      <td>1</td>\n",
       "      <td>1</td>\n",
       "      <td>0830</td>\n",
       "      <td>IAH</td>\n",
       "    </tr>\n",
       "    <tr>\n",
       "      <th>1</th>\n",
       "      <td>2013</td>\n",
       "      <td>1</td>\n",
       "      <td>1</td>\n",
       "      <td>0850</td>\n",
       "      <td>IAH</td>\n",
       "    </tr>\n",
       "    <tr>\n",
       "      <th>2</th>\n",
       "      <td>2013</td>\n",
       "      <td>1</td>\n",
       "      <td>1</td>\n",
       "      <td>0923</td>\n",
       "      <td>MIA</td>\n",
       "    </tr>\n",
       "    <tr>\n",
       "      <th>3</th>\n",
       "      <td>2013</td>\n",
       "      <td>1</td>\n",
       "      <td>1</td>\n",
       "      <td>1004</td>\n",
       "      <td>BQN</td>\n",
       "    </tr>\n",
       "    <tr>\n",
       "      <th>4</th>\n",
       "      <td>2013</td>\n",
       "      <td>1</td>\n",
       "      <td>1</td>\n",
       "      <td>0812</td>\n",
       "      <td>ATL</td>\n",
       "    </tr>\n",
       "  </tbody>\n",
       "</table>\n",
       "</div>"
      ],
      "text/plain": [
       "   year  month  day arr_time dest\n",
       "0  2013      1    1     0830  IAH\n",
       "1  2013      1    1     0850  IAH\n",
       "2  2013      1    1     0923  MIA\n",
       "3  2013      1    1     1004  BQN\n",
       "4  2013      1    1     0812  ATL"
      ]
     },
     "execution_count": 87,
     "metadata": {},
     "output_type": "execute_result"
    }
   ],
   "source": [
    "flights['arr_time'] = flights['arr_time'].str.pad(4, side='left', fillchar='0')\n",
    "#flights.arr_time = flights.zfill(flights.arr_time)\n",
    "flights.head()"
   ]
  },
  {
   "cell_type": "code",
   "execution_count": 88,
   "metadata": {},
   "outputs": [
    {
     "data": {
      "text/html": [
       "<div>\n",
       "<table border=\"1\" class=\"dataframe\">\n",
       "  <thead>\n",
       "    <tr style=\"text-align: right;\">\n",
       "      <th></th>\n",
       "      <th>year</th>\n",
       "      <th>month</th>\n",
       "      <th>day</th>\n",
       "      <th>arr_time</th>\n",
       "      <th>dest</th>\n",
       "    </tr>\n",
       "  </thead>\n",
       "  <tbody>\n",
       "    <tr>\n",
       "      <th>0</th>\n",
       "      <td>2013</td>\n",
       "      <td>01</td>\n",
       "      <td>1</td>\n",
       "      <td>0830</td>\n",
       "      <td>IAH</td>\n",
       "    </tr>\n",
       "    <tr>\n",
       "      <th>1</th>\n",
       "      <td>2013</td>\n",
       "      <td>01</td>\n",
       "      <td>1</td>\n",
       "      <td>0850</td>\n",
       "      <td>IAH</td>\n",
       "    </tr>\n",
       "    <tr>\n",
       "      <th>2</th>\n",
       "      <td>2013</td>\n",
       "      <td>01</td>\n",
       "      <td>1</td>\n",
       "      <td>0923</td>\n",
       "      <td>MIA</td>\n",
       "    </tr>\n",
       "    <tr>\n",
       "      <th>3</th>\n",
       "      <td>2013</td>\n",
       "      <td>01</td>\n",
       "      <td>1</td>\n",
       "      <td>1004</td>\n",
       "      <td>BQN</td>\n",
       "    </tr>\n",
       "    <tr>\n",
       "      <th>4</th>\n",
       "      <td>2013</td>\n",
       "      <td>01</td>\n",
       "      <td>1</td>\n",
       "      <td>0812</td>\n",
       "      <td>ATL</td>\n",
       "    </tr>\n",
       "  </tbody>\n",
       "</table>\n",
       "</div>"
      ],
      "text/plain": [
       "   year month  day arr_time dest\n",
       "0  2013    01    1     0830  IAH\n",
       "1  2013    01    1     0850  IAH\n",
       "2  2013    01    1     0923  MIA\n",
       "3  2013    01    1     1004  BQN\n",
       "4  2013    01    1     0812  ATL"
      ]
     },
     "execution_count": 88,
     "metadata": {},
     "output_type": "execute_result"
    }
   ],
   "source": [
    "flights.month = flights.month.astype(str)\n",
    "flights['month'] = flights['month'].str.pad(2, side='left', fillchar='0')\n",
    "flights.head()"
   ]
  },
  {
   "cell_type": "markdown",
   "metadata": {},
   "source": [
    "#### Now ensure that month is of two characters length, pad with 0, if needed"
   ]
  },
  {
   "cell_type": "code",
   "execution_count": 89,
   "metadata": {},
   "outputs": [
    {
     "data": {
      "text/html": [
       "<div>\n",
       "<table border=\"1\" class=\"dataframe\">\n",
       "  <thead>\n",
       "    <tr style=\"text-align: right;\">\n",
       "      <th></th>\n",
       "      <th>year</th>\n",
       "      <th>month</th>\n",
       "      <th>day</th>\n",
       "      <th>arr_time</th>\n",
       "      <th>dest</th>\n",
       "    </tr>\n",
       "  </thead>\n",
       "  <tbody>\n",
       "    <tr>\n",
       "      <th>0</th>\n",
       "      <td>2013</td>\n",
       "      <td>01</td>\n",
       "      <td>01</td>\n",
       "      <td>0830</td>\n",
       "      <td>IAH</td>\n",
       "    </tr>\n",
       "    <tr>\n",
       "      <th>1</th>\n",
       "      <td>2013</td>\n",
       "      <td>01</td>\n",
       "      <td>01</td>\n",
       "      <td>0850</td>\n",
       "      <td>IAH</td>\n",
       "    </tr>\n",
       "    <tr>\n",
       "      <th>2</th>\n",
       "      <td>2013</td>\n",
       "      <td>01</td>\n",
       "      <td>01</td>\n",
       "      <td>0923</td>\n",
       "      <td>MIA</td>\n",
       "    </tr>\n",
       "    <tr>\n",
       "      <th>3</th>\n",
       "      <td>2013</td>\n",
       "      <td>01</td>\n",
       "      <td>01</td>\n",
       "      <td>1004</td>\n",
       "      <td>BQN</td>\n",
       "    </tr>\n",
       "    <tr>\n",
       "      <th>4</th>\n",
       "      <td>2013</td>\n",
       "      <td>01</td>\n",
       "      <td>01</td>\n",
       "      <td>0812</td>\n",
       "      <td>ATL</td>\n",
       "    </tr>\n",
       "  </tbody>\n",
       "</table>\n",
       "</div>"
      ],
      "text/plain": [
       "   year month day arr_time dest\n",
       "0  2013    01  01     0830  IAH\n",
       "1  2013    01  01     0850  IAH\n",
       "2  2013    01  01     0923  MIA\n",
       "3  2013    01  01     1004  BQN\n",
       "4  2013    01  01     0812  ATL"
      ]
     },
     "execution_count": 89,
     "metadata": {},
     "output_type": "execute_result"
    }
   ],
   "source": [
    "flights.day = flights.day.astype(str)\n",
    "flights['day'] = flights['day'].str.pad(2, side='left', fillchar='0')\n",
    "flights.head()"
   ]
  },
  {
   "cell_type": "markdown",
   "metadata": {},
   "source": [
    "#### Now ensure that day is of two characters length, pad with 0, if needed"
   ]
  },
  {
   "cell_type": "code",
   "execution_count": 90,
   "metadata": {},
   "outputs": [
    {
     "data": {
      "text/html": [
       "<div>\n",
       "<table border=\"1\" class=\"dataframe\">\n",
       "  <thead>\n",
       "    <tr style=\"text-align: right;\">\n",
       "      <th></th>\n",
       "      <th>year</th>\n",
       "      <th>month</th>\n",
       "      <th>day</th>\n",
       "      <th>arr_time</th>\n",
       "      <th>dest</th>\n",
       "      <th>hour</th>\n",
       "      <th>mins</th>\n",
       "    </tr>\n",
       "  </thead>\n",
       "  <tbody>\n",
       "    <tr>\n",
       "      <th>0</th>\n",
       "      <td>2013</td>\n",
       "      <td>01</td>\n",
       "      <td>01</td>\n",
       "      <td>0830</td>\n",
       "      <td>IAH</td>\n",
       "      <td>08</td>\n",
       "      <td>30</td>\n",
       "    </tr>\n",
       "    <tr>\n",
       "      <th>1</th>\n",
       "      <td>2013</td>\n",
       "      <td>01</td>\n",
       "      <td>01</td>\n",
       "      <td>0850</td>\n",
       "      <td>IAH</td>\n",
       "      <td>08</td>\n",
       "      <td>50</td>\n",
       "    </tr>\n",
       "    <tr>\n",
       "      <th>2</th>\n",
       "      <td>2013</td>\n",
       "      <td>01</td>\n",
       "      <td>01</td>\n",
       "      <td>0923</td>\n",
       "      <td>MIA</td>\n",
       "      <td>09</td>\n",
       "      <td>23</td>\n",
       "    </tr>\n",
       "    <tr>\n",
       "      <th>3</th>\n",
       "      <td>2013</td>\n",
       "      <td>01</td>\n",
       "      <td>01</td>\n",
       "      <td>1004</td>\n",
       "      <td>BQN</td>\n",
       "      <td>10</td>\n",
       "      <td>04</td>\n",
       "    </tr>\n",
       "    <tr>\n",
       "      <th>4</th>\n",
       "      <td>2013</td>\n",
       "      <td>01</td>\n",
       "      <td>01</td>\n",
       "      <td>0812</td>\n",
       "      <td>ATL</td>\n",
       "      <td>08</td>\n",
       "      <td>12</td>\n",
       "    </tr>\n",
       "  </tbody>\n",
       "</table>\n",
       "</div>"
      ],
      "text/plain": [
       "   year month day arr_time dest hour mins\n",
       "0  2013    01  01     0830  IAH   08   30\n",
       "1  2013    01  01     0850  IAH   08   50\n",
       "2  2013    01  01     0923  MIA   09   23\n",
       "3  2013    01  01     1004  BQN   10   04\n",
       "4  2013    01  01     0812  ATL   08   12"
      ]
     },
     "execution_count": 90,
     "metadata": {},
     "output_type": "execute_result"
    }
   ],
   "source": [
    "flights['hour'] = flights.arr_time.str[:2]\n",
    "flights['mins'] = flights.arr_time.str[2:]\n",
    "flights.head()"
   ]
  },
  {
   "cell_type": "markdown",
   "metadata": {},
   "source": [
    "#### Concatenate year, month, and day into a separte string variable called ymd. Note that this is done in two steps"
   ]
  },
  {
   "cell_type": "code",
   "execution_count": 91,
   "metadata": {},
   "outputs": [
    {
     "data": {
      "text/html": [
       "<div>\n",
       "<table border=\"1\" class=\"dataframe\">\n",
       "  <thead>\n",
       "    <tr style=\"text-align: right;\">\n",
       "      <th></th>\n",
       "      <th>year</th>\n",
       "      <th>month</th>\n",
       "      <th>day</th>\n",
       "      <th>arr_time</th>\n",
       "      <th>dest</th>\n",
       "      <th>hour</th>\n",
       "      <th>mins</th>\n",
       "      <th>ym</th>\n",
       "      <th>ymd</th>\n",
       "    </tr>\n",
       "  </thead>\n",
       "  <tbody>\n",
       "    <tr>\n",
       "      <th>0</th>\n",
       "      <td>2013</td>\n",
       "      <td>01</td>\n",
       "      <td>01</td>\n",
       "      <td>0830</td>\n",
       "      <td>IAH</td>\n",
       "      <td>08</td>\n",
       "      <td>30</td>\n",
       "      <td>2013-01</td>\n",
       "      <td>2013-01-01</td>\n",
       "    </tr>\n",
       "    <tr>\n",
       "      <th>1</th>\n",
       "      <td>2013</td>\n",
       "      <td>01</td>\n",
       "      <td>01</td>\n",
       "      <td>0850</td>\n",
       "      <td>IAH</td>\n",
       "      <td>08</td>\n",
       "      <td>50</td>\n",
       "      <td>2013-01</td>\n",
       "      <td>2013-01-01</td>\n",
       "    </tr>\n",
       "    <tr>\n",
       "      <th>2</th>\n",
       "      <td>2013</td>\n",
       "      <td>01</td>\n",
       "      <td>01</td>\n",
       "      <td>0923</td>\n",
       "      <td>MIA</td>\n",
       "      <td>09</td>\n",
       "      <td>23</td>\n",
       "      <td>2013-01</td>\n",
       "      <td>2013-01-01</td>\n",
       "    </tr>\n",
       "    <tr>\n",
       "      <th>3</th>\n",
       "      <td>2013</td>\n",
       "      <td>01</td>\n",
       "      <td>01</td>\n",
       "      <td>1004</td>\n",
       "      <td>BQN</td>\n",
       "      <td>10</td>\n",
       "      <td>04</td>\n",
       "      <td>2013-01</td>\n",
       "      <td>2013-01-01</td>\n",
       "    </tr>\n",
       "    <tr>\n",
       "      <th>4</th>\n",
       "      <td>2013</td>\n",
       "      <td>01</td>\n",
       "      <td>01</td>\n",
       "      <td>0812</td>\n",
       "      <td>ATL</td>\n",
       "      <td>08</td>\n",
       "      <td>12</td>\n",
       "      <td>2013-01</td>\n",
       "      <td>2013-01-01</td>\n",
       "    </tr>\n",
       "  </tbody>\n",
       "</table>\n",
       "</div>"
      ],
      "text/plain": [
       "   year month day arr_time dest hour mins       ym         ymd\n",
       "0  2013    01  01     0830  IAH   08   30  2013-01  2013-01-01\n",
       "1  2013    01  01     0850  IAH   08   50  2013-01  2013-01-01\n",
       "2  2013    01  01     0923  MIA   09   23  2013-01  2013-01-01\n",
       "3  2013    01  01     1004  BQN   10   04  2013-01  2013-01-01\n",
       "4  2013    01  01     0812  ATL   08   12  2013-01  2013-01-01"
      ]
     },
     "execution_count": 91,
     "metadata": {},
     "output_type": "execute_result"
    }
   ],
   "source": [
    "flights['ym'] = flights.year.astype(str).str.cat(flights.month.astype(str), sep='-')\n",
    "flights['ymd'] = flights.ym.astype(str).str.cat(flights.day.astype(str), sep='-')\n",
    "flights.head()"
   ]
  },
  {
   "cell_type": "markdown",
   "metadata": {},
   "source": [
    "#### Concatenate hour and mins into a separte string variable called hm"
   ]
  },
  {
   "cell_type": "code",
   "execution_count": 92,
   "metadata": {
    "scrolled": true
   },
   "outputs": [
    {
     "data": {
      "text/html": [
       "<div>\n",
       "<table border=\"1\" class=\"dataframe\">\n",
       "  <thead>\n",
       "    <tr style=\"text-align: right;\">\n",
       "      <th></th>\n",
       "      <th>year</th>\n",
       "      <th>month</th>\n",
       "      <th>day</th>\n",
       "      <th>arr_time</th>\n",
       "      <th>dest</th>\n",
       "      <th>hour</th>\n",
       "      <th>mins</th>\n",
       "      <th>ym</th>\n",
       "      <th>ymd</th>\n",
       "      <th>hm</th>\n",
       "    </tr>\n",
       "  </thead>\n",
       "  <tbody>\n",
       "    <tr>\n",
       "      <th>0</th>\n",
       "      <td>2013</td>\n",
       "      <td>01</td>\n",
       "      <td>01</td>\n",
       "      <td>0830</td>\n",
       "      <td>IAH</td>\n",
       "      <td>08</td>\n",
       "      <td>30</td>\n",
       "      <td>2013-01</td>\n",
       "      <td>2013-01-01</td>\n",
       "      <td>08:30</td>\n",
       "    </tr>\n",
       "    <tr>\n",
       "      <th>1</th>\n",
       "      <td>2013</td>\n",
       "      <td>01</td>\n",
       "      <td>01</td>\n",
       "      <td>0850</td>\n",
       "      <td>IAH</td>\n",
       "      <td>08</td>\n",
       "      <td>50</td>\n",
       "      <td>2013-01</td>\n",
       "      <td>2013-01-01</td>\n",
       "      <td>08:50</td>\n",
       "    </tr>\n",
       "    <tr>\n",
       "      <th>2</th>\n",
       "      <td>2013</td>\n",
       "      <td>01</td>\n",
       "      <td>01</td>\n",
       "      <td>0923</td>\n",
       "      <td>MIA</td>\n",
       "      <td>09</td>\n",
       "      <td>23</td>\n",
       "      <td>2013-01</td>\n",
       "      <td>2013-01-01</td>\n",
       "      <td>09:23</td>\n",
       "    </tr>\n",
       "    <tr>\n",
       "      <th>3</th>\n",
       "      <td>2013</td>\n",
       "      <td>01</td>\n",
       "      <td>01</td>\n",
       "      <td>1004</td>\n",
       "      <td>BQN</td>\n",
       "      <td>10</td>\n",
       "      <td>04</td>\n",
       "      <td>2013-01</td>\n",
       "      <td>2013-01-01</td>\n",
       "      <td>10:04</td>\n",
       "    </tr>\n",
       "    <tr>\n",
       "      <th>4</th>\n",
       "      <td>2013</td>\n",
       "      <td>01</td>\n",
       "      <td>01</td>\n",
       "      <td>0812</td>\n",
       "      <td>ATL</td>\n",
       "      <td>08</td>\n",
       "      <td>12</td>\n",
       "      <td>2013-01</td>\n",
       "      <td>2013-01-01</td>\n",
       "      <td>08:12</td>\n",
       "    </tr>\n",
       "  </tbody>\n",
       "</table>\n",
       "</div>"
      ],
      "text/plain": [
       "   year month day arr_time dest hour mins       ym         ymd     hm\n",
       "0  2013    01  01     0830  IAH   08   30  2013-01  2013-01-01  08:30\n",
       "1  2013    01  01     0850  IAH   08   50  2013-01  2013-01-01  08:50\n",
       "2  2013    01  01     0923  MIA   09   23  2013-01  2013-01-01  09:23\n",
       "3  2013    01  01     1004  BQN   10   04  2013-01  2013-01-01  10:04\n",
       "4  2013    01  01     0812  ATL   08   12  2013-01  2013-01-01  08:12"
      ]
     },
     "execution_count": 92,
     "metadata": {},
     "output_type": "execute_result"
    }
   ],
   "source": [
    "flights['hm'] = flights.hour.astype(str).str.cat(flights.mins.astype(str), sep=':')\n",
    "flights.head()"
   ]
  },
  {
   "cell_type": "markdown",
   "metadata": {},
   "source": [
    "#### Now, concatenate ymd and hm into the variable called arr_date_time"
   ]
  },
  {
   "cell_type": "code",
   "execution_count": 93,
   "metadata": {},
   "outputs": [
    {
     "data": {
      "text/html": [
       "<div>\n",
       "<table border=\"1\" class=\"dataframe\">\n",
       "  <thead>\n",
       "    <tr style=\"text-align: right;\">\n",
       "      <th></th>\n",
       "      <th>year</th>\n",
       "      <th>month</th>\n",
       "      <th>day</th>\n",
       "      <th>arr_time</th>\n",
       "      <th>dest</th>\n",
       "      <th>hour</th>\n",
       "      <th>mins</th>\n",
       "      <th>ym</th>\n",
       "      <th>ymd</th>\n",
       "      <th>hm</th>\n",
       "      <th>arr_date_time</th>\n",
       "    </tr>\n",
       "  </thead>\n",
       "  <tbody>\n",
       "    <tr>\n",
       "      <th>0</th>\n",
       "      <td>2013</td>\n",
       "      <td>01</td>\n",
       "      <td>01</td>\n",
       "      <td>0830</td>\n",
       "      <td>IAH</td>\n",
       "      <td>08</td>\n",
       "      <td>30</td>\n",
       "      <td>2013-01</td>\n",
       "      <td>2013-01-01</td>\n",
       "      <td>08:30</td>\n",
       "      <td>2013-01-01 08:30</td>\n",
       "    </tr>\n",
       "    <tr>\n",
       "      <th>1</th>\n",
       "      <td>2013</td>\n",
       "      <td>01</td>\n",
       "      <td>01</td>\n",
       "      <td>0850</td>\n",
       "      <td>IAH</td>\n",
       "      <td>08</td>\n",
       "      <td>50</td>\n",
       "      <td>2013-01</td>\n",
       "      <td>2013-01-01</td>\n",
       "      <td>08:50</td>\n",
       "      <td>2013-01-01 08:50</td>\n",
       "    </tr>\n",
       "    <tr>\n",
       "      <th>2</th>\n",
       "      <td>2013</td>\n",
       "      <td>01</td>\n",
       "      <td>01</td>\n",
       "      <td>0923</td>\n",
       "      <td>MIA</td>\n",
       "      <td>09</td>\n",
       "      <td>23</td>\n",
       "      <td>2013-01</td>\n",
       "      <td>2013-01-01</td>\n",
       "      <td>09:23</td>\n",
       "      <td>2013-01-01 09:23</td>\n",
       "    </tr>\n",
       "    <tr>\n",
       "      <th>3</th>\n",
       "      <td>2013</td>\n",
       "      <td>01</td>\n",
       "      <td>01</td>\n",
       "      <td>1004</td>\n",
       "      <td>BQN</td>\n",
       "      <td>10</td>\n",
       "      <td>04</td>\n",
       "      <td>2013-01</td>\n",
       "      <td>2013-01-01</td>\n",
       "      <td>10:04</td>\n",
       "      <td>2013-01-01 10:04</td>\n",
       "    </tr>\n",
       "    <tr>\n",
       "      <th>4</th>\n",
       "      <td>2013</td>\n",
       "      <td>01</td>\n",
       "      <td>01</td>\n",
       "      <td>0812</td>\n",
       "      <td>ATL</td>\n",
       "      <td>08</td>\n",
       "      <td>12</td>\n",
       "      <td>2013-01</td>\n",
       "      <td>2013-01-01</td>\n",
       "      <td>08:12</td>\n",
       "      <td>2013-01-01 08:12</td>\n",
       "    </tr>\n",
       "  </tbody>\n",
       "</table>\n",
       "</div>"
      ],
      "text/plain": [
       "   year month day arr_time dest hour mins       ym         ymd     hm  \\\n",
       "0  2013    01  01     0830  IAH   08   30  2013-01  2013-01-01  08:30   \n",
       "1  2013    01  01     0850  IAH   08   50  2013-01  2013-01-01  08:50   \n",
       "2  2013    01  01     0923  MIA   09   23  2013-01  2013-01-01  09:23   \n",
       "3  2013    01  01     1004  BQN   10   04  2013-01  2013-01-01  10:04   \n",
       "4  2013    01  01     0812  ATL   08   12  2013-01  2013-01-01  08:12   \n",
       "\n",
       "      arr_date_time  \n",
       "0  2013-01-01 08:30  \n",
       "1  2013-01-01 08:50  \n",
       "2  2013-01-01 09:23  \n",
       "3  2013-01-01 10:04  \n",
       "4  2013-01-01 08:12  "
      ]
     },
     "execution_count": 93,
     "metadata": {},
     "output_type": "execute_result"
    }
   ],
   "source": [
    "flights['arr_date_time'] = flights.ymd.astype(str).str.cat(flights.hm.astype(str), sep=' ')\n",
    "flights.head()"
   ]
  },
  {
   "cell_type": "markdown",
   "metadata": {},
   "source": [
    "#### Finally, create a variable called arrtime by converting the arr_date_time into the date format. Make sure that coerce the formation of this column; otherwise errors will result."
   ]
  },
  {
   "cell_type": "code",
   "execution_count": 94,
   "metadata": {},
   "outputs": [
    {
     "data": {
      "text/html": [
       "<div>\n",
       "<table border=\"1\" class=\"dataframe\">\n",
       "  <thead>\n",
       "    <tr style=\"text-align: right;\">\n",
       "      <th></th>\n",
       "      <th>year</th>\n",
       "      <th>month</th>\n",
       "      <th>day</th>\n",
       "      <th>arr_time</th>\n",
       "      <th>dest</th>\n",
       "      <th>hour</th>\n",
       "      <th>mins</th>\n",
       "      <th>ym</th>\n",
       "      <th>ymd</th>\n",
       "      <th>hm</th>\n",
       "      <th>arr_date_time</th>\n",
       "      <th>arrtime</th>\n",
       "    </tr>\n",
       "  </thead>\n",
       "  <tbody>\n",
       "    <tr>\n",
       "      <th>0</th>\n",
       "      <td>2013</td>\n",
       "      <td>01</td>\n",
       "      <td>01</td>\n",
       "      <td>0830</td>\n",
       "      <td>IAH</td>\n",
       "      <td>08</td>\n",
       "      <td>30</td>\n",
       "      <td>2013-01</td>\n",
       "      <td>2013-01-01</td>\n",
       "      <td>08:30</td>\n",
       "      <td>2013-01-01 08:30</td>\n",
       "      <td>2013-01-01 08:30:00</td>\n",
       "    </tr>\n",
       "    <tr>\n",
       "      <th>1</th>\n",
       "      <td>2013</td>\n",
       "      <td>01</td>\n",
       "      <td>01</td>\n",
       "      <td>0850</td>\n",
       "      <td>IAH</td>\n",
       "      <td>08</td>\n",
       "      <td>50</td>\n",
       "      <td>2013-01</td>\n",
       "      <td>2013-01-01</td>\n",
       "      <td>08:50</td>\n",
       "      <td>2013-01-01 08:50</td>\n",
       "      <td>2013-01-01 08:50:00</td>\n",
       "    </tr>\n",
       "    <tr>\n",
       "      <th>2</th>\n",
       "      <td>2013</td>\n",
       "      <td>01</td>\n",
       "      <td>01</td>\n",
       "      <td>0923</td>\n",
       "      <td>MIA</td>\n",
       "      <td>09</td>\n",
       "      <td>23</td>\n",
       "      <td>2013-01</td>\n",
       "      <td>2013-01-01</td>\n",
       "      <td>09:23</td>\n",
       "      <td>2013-01-01 09:23</td>\n",
       "      <td>2013-01-01 09:23:00</td>\n",
       "    </tr>\n",
       "    <tr>\n",
       "      <th>3</th>\n",
       "      <td>2013</td>\n",
       "      <td>01</td>\n",
       "      <td>01</td>\n",
       "      <td>1004</td>\n",
       "      <td>BQN</td>\n",
       "      <td>10</td>\n",
       "      <td>04</td>\n",
       "      <td>2013-01</td>\n",
       "      <td>2013-01-01</td>\n",
       "      <td>10:04</td>\n",
       "      <td>2013-01-01 10:04</td>\n",
       "      <td>2013-01-01 10:04:00</td>\n",
       "    </tr>\n",
       "    <tr>\n",
       "      <th>4</th>\n",
       "      <td>2013</td>\n",
       "      <td>01</td>\n",
       "      <td>01</td>\n",
       "      <td>0812</td>\n",
       "      <td>ATL</td>\n",
       "      <td>08</td>\n",
       "      <td>12</td>\n",
       "      <td>2013-01</td>\n",
       "      <td>2013-01-01</td>\n",
       "      <td>08:12</td>\n",
       "      <td>2013-01-01 08:12</td>\n",
       "      <td>2013-01-01 08:12:00</td>\n",
       "    </tr>\n",
       "  </tbody>\n",
       "</table>\n",
       "</div>"
      ],
      "text/plain": [
       "   year month day arr_time dest hour mins       ym         ymd     hm  \\\n",
       "0  2013    01  01     0830  IAH   08   30  2013-01  2013-01-01  08:30   \n",
       "1  2013    01  01     0850  IAH   08   50  2013-01  2013-01-01  08:50   \n",
       "2  2013    01  01     0923  MIA   09   23  2013-01  2013-01-01  09:23   \n",
       "3  2013    01  01     1004  BQN   10   04  2013-01  2013-01-01  10:04   \n",
       "4  2013    01  01     0812  ATL   08   12  2013-01  2013-01-01  08:12   \n",
       "\n",
       "      arr_date_time             arrtime  \n",
       "0  2013-01-01 08:30 2013-01-01 08:30:00  \n",
       "1  2013-01-01 08:50 2013-01-01 08:50:00  \n",
       "2  2013-01-01 09:23 2013-01-01 09:23:00  \n",
       "3  2013-01-01 10:04 2013-01-01 10:04:00  \n",
       "4  2013-01-01 08:12 2013-01-01 08:12:00  "
      ]
     },
     "execution_count": 94,
     "metadata": {},
     "output_type": "execute_result"
    }
   ],
   "source": [
    "flights['arrtime'] = pd.to_datetime(flights['arr_date_time'], format ='%Y-%m-%d %H:%M', errors='coerce')\n",
    "flights.head()"
   ]
  },
  {
   "cell_type": "markdown",
   "metadata": {},
   "source": [
    "#### Keep only the variables that relevant to futher analysis"
   ]
  },
  {
   "cell_type": "code",
   "execution_count": 95,
   "metadata": {},
   "outputs": [
    {
     "data": {
      "text/html": [
       "<div>\n",
       "<table border=\"1\" class=\"dataframe\">\n",
       "  <thead>\n",
       "    <tr style=\"text-align: right;\">\n",
       "      <th></th>\n",
       "      <th>arrtime</th>\n",
       "      <th>dest</th>\n",
       "    </tr>\n",
       "  </thead>\n",
       "  <tbody>\n",
       "    <tr>\n",
       "      <th>0</th>\n",
       "      <td>2013-01-01 08:30:00</td>\n",
       "      <td>IAH</td>\n",
       "    </tr>\n",
       "    <tr>\n",
       "      <th>1</th>\n",
       "      <td>2013-01-01 08:50:00</td>\n",
       "      <td>IAH</td>\n",
       "    </tr>\n",
       "    <tr>\n",
       "      <th>2</th>\n",
       "      <td>2013-01-01 09:23:00</td>\n",
       "      <td>MIA</td>\n",
       "    </tr>\n",
       "    <tr>\n",
       "      <th>3</th>\n",
       "      <td>2013-01-01 10:04:00</td>\n",
       "      <td>BQN</td>\n",
       "    </tr>\n",
       "    <tr>\n",
       "      <th>4</th>\n",
       "      <td>2013-01-01 08:12:00</td>\n",
       "      <td>ATL</td>\n",
       "    </tr>\n",
       "  </tbody>\n",
       "</table>\n",
       "</div>"
      ],
      "text/plain": [
       "              arrtime dest\n",
       "0 2013-01-01 08:30:00  IAH\n",
       "1 2013-01-01 08:50:00  IAH\n",
       "2 2013-01-01 09:23:00  MIA\n",
       "3 2013-01-01 10:04:00  BQN\n",
       "4 2013-01-01 08:12:00  ATL"
      ]
     },
     "execution_count": 95,
     "metadata": {},
     "output_type": "execute_result"
    }
   ],
   "source": [
    "flights = flights[['arrtime', 'dest']]\n",
    "flights.head()"
   ]
  },
  {
   "cell_type": "markdown",
   "metadata": {},
   "source": [
    "#### Identify how many malformed instances of the arrtime variable there are"
   ]
  },
  {
   "cell_type": "code",
   "execution_count": 96,
   "metadata": {},
   "outputs": [
    {
     "data": {
      "text/plain": [
       "arrtime    150\n",
       "dest         0\n",
       "dtype: int64"
      ]
     },
     "execution_count": 96,
     "metadata": {},
     "output_type": "execute_result"
    }
   ],
   "source": [
    "flights.isnull().sum() "
   ]
  },
  {
   "cell_type": "markdown",
   "metadata": {},
   "source": [
    "#### Delete those malformed instances to obtain a clean dataset"
   ]
  },
  {
   "cell_type": "code",
   "execution_count": 97,
   "metadata": {},
   "outputs": [
    {
     "data": {
      "text/plain": [
       "arrtime    0\n",
       "dest       0\n",
       "dtype: int64"
      ]
     },
     "execution_count": 97,
     "metadata": {},
     "output_type": "execute_result"
    }
   ],
   "source": [
    "flights = flights[pd.notnull(flights['arrtime'])]\n",
    "flights.isnull().sum() "
   ]
  },
  {
   "cell_type": "markdown",
   "metadata": {},
   "source": [
    "#### Ready to identify the busiest airports in the list based on arrivals. First step is to list the unique destination airports"
   ]
  },
  {
   "cell_type": "code",
   "execution_count": 98,
   "metadata": {},
   "outputs": [
    {
     "data": {
      "text/plain": [
       "array(['IAH', 'MIA', 'BQN', 'ATL', 'ORD', 'FLL', 'IAD', 'MCO', 'PBI',\n",
       "       'TPA', 'LAX', 'SFO', 'DFW', 'BOS', 'LAS', 'MSP', 'DTW', 'RSW',\n",
       "       'SJU', 'PHX', 'BWI', 'CLT', 'BUF', 'DEN', 'SNA', 'MSY', 'SLC',\n",
       "       'XNA', 'MKE', 'SEA', 'ROC', 'SYR', 'SRQ', 'RDU', 'CMH', 'JAX',\n",
       "       'CHS', 'MEM', 'PIT', 'SAN', 'DCA', 'CLE', 'STL', 'MYR', 'JAC',\n",
       "       'MDW', 'HNL', 'BNA', 'AUS', 'BTV', 'PHL', 'STT', 'EGE', 'AVL',\n",
       "       'PWM', 'IND', 'SAV', 'CAK', 'HOU', 'LGB', 'DAY', 'ALB', 'BDL',\n",
       "       'MHT', 'MSN', 'GSO', 'CVG', 'BUR', 'RIC', 'GSP', 'GRR', 'MCI',\n",
       "       'ORF', 'SAT', 'SDF', 'PDX', 'SJC', 'OMA', 'CRW', 'OAK', 'SMF',\n",
       "       'TUL', 'TYS', 'PVD', 'DSM', 'PSE', 'BHM', 'OKC', 'CAE', 'HDN',\n",
       "       'BZN', 'MTJ', 'EYW', 'PSP', 'ACK', 'BGR', 'ABQ', 'ILM', 'MVY',\n",
       "       'SBN', 'LEX', 'CHO', 'TVC', 'ANC'], dtype=object)"
      ]
     },
     "execution_count": 98,
     "metadata": {},
     "output_type": "execute_result"
    }
   ],
   "source": [
    "flights.dest.unique()"
   ]
  },
  {
   "cell_type": "markdown",
   "metadata": {},
   "source": [
    "#### Count the number of arrivals at airports and sort them\n",
    "The top five values give you the busiest airports, w.r.t. number of arrivals per day "
   ]
  },
  {
   "cell_type": "code",
   "execution_count": 99,
   "metadata": {},
   "outputs": [
    {
     "data": {
      "text/plain": [
       "ATL    16871\n",
       "ORD    16607\n",
       "LAX    16047\n",
       "BOS    15020\n",
       "MCO    13973\n",
       "dtype: int64"
      ]
     },
     "execution_count": 99,
     "metadata": {},
     "output_type": "execute_result"
    }
   ],
   "source": [
    "pd.value_counts(flights['dest'].values, sort=True).head(5)\n",
    "# if you want to see all values, remove the head() option from this command"
   ]
  },
  {
   "cell_type": "markdown",
   "metadata": {},
   "source": [
    "#### Create five different datasets for the top five (busiest) airports"
   ]
  },
  {
   "cell_type": "code",
   "execution_count": 100,
   "metadata": {
    "collapsed": true
   },
   "outputs": [],
   "source": [
    "ATL = flights[flights['dest'] == 'ATL']\n",
    "ORD = flights[flights['dest'] == 'ORD']\n",
    "LAX = flights[flights['dest'] == 'LAX']\n",
    "BOS = flights[flights['dest'] == 'BOS']\n",
    "MCO = flights[flights['dest'] == 'MCO']"
   ]
  },
  {
   "cell_type": "markdown",
   "metadata": {},
   "source": [
    "#### I will show detailes steps for ATL for obtaining interarrival times in minutes\n",
    "- Compute inter-arrival time for each airport file after sorting each file by date and arrival time\n",
    "- Convert that time to seconds\n",
    "- Convert seconds into minutes (by dividing by 60)"
   ]
  },
  {
   "cell_type": "markdown",
   "metadata": {},
   "source": [
    "#### Use the diff function to obtain interarrival time in time format"
   ]
  },
  {
   "cell_type": "code",
   "execution_count": 101,
   "metadata": {},
   "outputs": [
    {
     "data": {
      "text/html": [
       "<div>\n",
       "<table border=\"1\" class=\"dataframe\">\n",
       "  <thead>\n",
       "    <tr style=\"text-align: right;\">\n",
       "      <th></th>\n",
       "      <th>arrtime</th>\n",
       "      <th>dest</th>\n",
       "      <th>iat</th>\n",
       "    </tr>\n",
       "  </thead>\n",
       "  <tbody>\n",
       "    <tr>\n",
       "      <th>4</th>\n",
       "      <td>2013-01-01 08:12:00</td>\n",
       "      <td>ATL</td>\n",
       "      <td>NaT</td>\n",
       "    </tr>\n",
       "    <tr>\n",
       "      <th>29</th>\n",
       "      <td>2013-01-01 08:33:00</td>\n",
       "      <td>ATL</td>\n",
       "      <td>00:21:00</td>\n",
       "    </tr>\n",
       "    <tr>\n",
       "      <th>18</th>\n",
       "      <td>2013-01-01 08:37:00</td>\n",
       "      <td>ATL</td>\n",
       "      <td>00:04:00</td>\n",
       "    </tr>\n",
       "    <tr>\n",
       "      <th>23</th>\n",
       "      <td>2013-01-01 08:37:00</td>\n",
       "      <td>ATL</td>\n",
       "      <td>00:00:00</td>\n",
       "    </tr>\n",
       "    <tr>\n",
       "      <th>62</th>\n",
       "      <td>2013-01-01 09:44:00</td>\n",
       "      <td>ATL</td>\n",
       "      <td>01:07:00</td>\n",
       "    </tr>\n",
       "  </tbody>\n",
       "</table>\n",
       "</div>"
      ],
      "text/plain": [
       "               arrtime dest      iat\n",
       "4  2013-01-01 08:12:00  ATL      NaT\n",
       "29 2013-01-01 08:33:00  ATL 00:21:00\n",
       "18 2013-01-01 08:37:00  ATL 00:04:00\n",
       "23 2013-01-01 08:37:00  ATL 00:00:00\n",
       "62 2013-01-01 09:44:00  ATL 01:07:00"
      ]
     },
     "execution_count": 101,
     "metadata": {},
     "output_type": "execute_result"
    }
   ],
   "source": [
    "iatATL = ATL.sort_values(by=['arrtime'])\n",
    "iatATL['iat'] = iatATL['arrtime'].diff()\n",
    "iatATL.head()"
   ]
  },
  {
   "cell_type": "markdown",
   "metadata": {},
   "source": [
    "#### Convert time into seconds"
   ]
  },
  {
   "cell_type": "code",
   "execution_count": 102,
   "metadata": {},
   "outputs": [
    {
     "data": {
      "text/html": [
       "<div>\n",
       "<table border=\"1\" class=\"dataframe\">\n",
       "  <thead>\n",
       "    <tr style=\"text-align: right;\">\n",
       "      <th></th>\n",
       "      <th>arrtime</th>\n",
       "      <th>dest</th>\n",
       "      <th>iat</th>\n",
       "      <th>iat_seconds</th>\n",
       "    </tr>\n",
       "  </thead>\n",
       "  <tbody>\n",
       "    <tr>\n",
       "      <th>4</th>\n",
       "      <td>2013-01-01 08:12:00</td>\n",
       "      <td>ATL</td>\n",
       "      <td>NaT</td>\n",
       "      <td>NaN</td>\n",
       "    </tr>\n",
       "    <tr>\n",
       "      <th>29</th>\n",
       "      <td>2013-01-01 08:33:00</td>\n",
       "      <td>ATL</td>\n",
       "      <td>00:21:00</td>\n",
       "      <td>1260.0</td>\n",
       "    </tr>\n",
       "    <tr>\n",
       "      <th>18</th>\n",
       "      <td>2013-01-01 08:37:00</td>\n",
       "      <td>ATL</td>\n",
       "      <td>00:04:00</td>\n",
       "      <td>240.0</td>\n",
       "    </tr>\n",
       "    <tr>\n",
       "      <th>23</th>\n",
       "      <td>2013-01-01 08:37:00</td>\n",
       "      <td>ATL</td>\n",
       "      <td>00:00:00</td>\n",
       "      <td>0.0</td>\n",
       "    </tr>\n",
       "    <tr>\n",
       "      <th>62</th>\n",
       "      <td>2013-01-01 09:44:00</td>\n",
       "      <td>ATL</td>\n",
       "      <td>01:07:00</td>\n",
       "      <td>4020.0</td>\n",
       "    </tr>\n",
       "  </tbody>\n",
       "</table>\n",
       "</div>"
      ],
      "text/plain": [
       "               arrtime dest      iat  iat_seconds\n",
       "4  2013-01-01 08:12:00  ATL      NaT          NaN\n",
       "29 2013-01-01 08:33:00  ATL 00:21:00       1260.0\n",
       "18 2013-01-01 08:37:00  ATL 00:04:00        240.0\n",
       "23 2013-01-01 08:37:00  ATL 00:00:00          0.0\n",
       "62 2013-01-01 09:44:00  ATL 01:07:00       4020.0"
      ]
     },
     "execution_count": 102,
     "metadata": {},
     "output_type": "execute_result"
    }
   ],
   "source": [
    "# Get arrival difference time in seconds\n",
    "iatATL[\"iat_seconds\"] = iatATL['iat'].dt.total_seconds()\n",
    "iatATL.head()"
   ]
  },
  {
   "cell_type": "markdown",
   "metadata": {},
   "source": [
    "#### Convert seconds into minutes"
   ]
  },
  {
   "cell_type": "code",
   "execution_count": 103,
   "metadata": {},
   "outputs": [
    {
     "data": {
      "text/html": [
       "<div>\n",
       "<table border=\"1\" class=\"dataframe\">\n",
       "  <thead>\n",
       "    <tr style=\"text-align: right;\">\n",
       "      <th></th>\n",
       "      <th>arrtime</th>\n",
       "      <th>dest</th>\n",
       "      <th>iat</th>\n",
       "      <th>iat_seconds</th>\n",
       "      <th>iat_mins</th>\n",
       "    </tr>\n",
       "  </thead>\n",
       "  <tbody>\n",
       "    <tr>\n",
       "      <th>4</th>\n",
       "      <td>2013-01-01 08:12:00</td>\n",
       "      <td>ATL</td>\n",
       "      <td>NaT</td>\n",
       "      <td>NaN</td>\n",
       "      <td>NaN</td>\n",
       "    </tr>\n",
       "    <tr>\n",
       "      <th>29</th>\n",
       "      <td>2013-01-01 08:33:00</td>\n",
       "      <td>ATL</td>\n",
       "      <td>00:21:00</td>\n",
       "      <td>1260.0</td>\n",
       "      <td>21.0</td>\n",
       "    </tr>\n",
       "    <tr>\n",
       "      <th>18</th>\n",
       "      <td>2013-01-01 08:37:00</td>\n",
       "      <td>ATL</td>\n",
       "      <td>00:04:00</td>\n",
       "      <td>240.0</td>\n",
       "      <td>4.0</td>\n",
       "    </tr>\n",
       "    <tr>\n",
       "      <th>23</th>\n",
       "      <td>2013-01-01 08:37:00</td>\n",
       "      <td>ATL</td>\n",
       "      <td>00:00:00</td>\n",
       "      <td>0.0</td>\n",
       "      <td>0.0</td>\n",
       "    </tr>\n",
       "    <tr>\n",
       "      <th>62</th>\n",
       "      <td>2013-01-01 09:44:00</td>\n",
       "      <td>ATL</td>\n",
       "      <td>01:07:00</td>\n",
       "      <td>4020.0</td>\n",
       "      <td>67.0</td>\n",
       "    </tr>\n",
       "  </tbody>\n",
       "</table>\n",
       "</div>"
      ],
      "text/plain": [
       "               arrtime dest      iat  iat_seconds  iat_mins\n",
       "4  2013-01-01 08:12:00  ATL      NaT          NaN       NaN\n",
       "29 2013-01-01 08:33:00  ATL 00:21:00       1260.0      21.0\n",
       "18 2013-01-01 08:37:00  ATL 00:04:00        240.0       4.0\n",
       "23 2013-01-01 08:37:00  ATL 00:00:00          0.0       0.0\n",
       "62 2013-01-01 09:44:00  ATL 01:07:00       4020.0      67.0"
      ]
     },
     "execution_count": 103,
     "metadata": {},
     "output_type": "execute_result"
    }
   ],
   "source": [
    "# Get arrival difference time in minutes\n",
    "iatATL[\"iat_mins\"] = iatATL['iat_seconds']/60\n",
    "iatATL.head()"
   ]
  },
  {
   "cell_type": "markdown",
   "metadata": {},
   "source": [
    "#### Obtain descriptive statistics for ATL"
   ]
  },
  {
   "cell_type": "code",
   "execution_count": 104,
   "metadata": {
    "scrolled": true
   },
   "outputs": [
    {
     "data": {
      "text/html": [
       "<div>\n",
       "<table border=\"1\" class=\"dataframe\">\n",
       "  <thead>\n",
       "    <tr style=\"text-align: right;\">\n",
       "      <th></th>\n",
       "      <th>count</th>\n",
       "      <th>mean</th>\n",
       "      <th>std</th>\n",
       "      <th>min</th>\n",
       "      <th>25%</th>\n",
       "      <th>50%</th>\n",
       "      <th>75%</th>\n",
       "      <th>max</th>\n",
       "    </tr>\n",
       "  </thead>\n",
       "  <tbody>\n",
       "    <tr>\n",
       "      <th>iat</th>\n",
       "      <td>16870</td>\n",
       "      <td>0 days 00:31:07.102548</td>\n",
       "      <td>0 days 01:14:48.856903</td>\n",
       "      <td>0 days 00:00:00</td>\n",
       "      <td>0 days 00:07:00</td>\n",
       "      <td>0 days 00:16:00</td>\n",
       "      <td>0 days 00:30:00</td>\n",
       "      <td>0 days 21:56:00</td>\n",
       "    </tr>\n",
       "    <tr>\n",
       "      <th>iat_seconds</th>\n",
       "      <td>16870</td>\n",
       "      <td>1867.1</td>\n",
       "      <td>4488.86</td>\n",
       "      <td>0</td>\n",
       "      <td>420</td>\n",
       "      <td>960</td>\n",
       "      <td>1800</td>\n",
       "      <td>78960</td>\n",
       "    </tr>\n",
       "    <tr>\n",
       "      <th>iat_mins</th>\n",
       "      <td>16870</td>\n",
       "      <td>31.1184</td>\n",
       "      <td>74.8143</td>\n",
       "      <td>0</td>\n",
       "      <td>7</td>\n",
       "      <td>16</td>\n",
       "      <td>30</td>\n",
       "      <td>1316</td>\n",
       "    </tr>\n",
       "  </tbody>\n",
       "</table>\n",
       "</div>"
      ],
      "text/plain": [
       "             count                    mean                     std  \\\n",
       "iat          16870  0 days 00:31:07.102548  0 days 01:14:48.856903   \n",
       "iat_seconds  16870                  1867.1                 4488.86   \n",
       "iat_mins     16870                 31.1184                 74.8143   \n",
       "\n",
       "                         min              25%              50%  \\\n",
       "iat          0 days 00:00:00  0 days 00:07:00  0 days 00:16:00   \n",
       "iat_seconds                0              420              960   \n",
       "iat_mins                   0                7               16   \n",
       "\n",
       "                         75%              max  \n",
       "iat          0 days 00:30:00  0 days 21:56:00  \n",
       "iat_seconds             1800            78960  \n",
       "iat_mins                  30             1316  "
      ]
     },
     "execution_count": 104,
     "metadata": {},
     "output_type": "execute_result"
    }
   ],
   "source": [
    "iatATL.describe().transpose()"
   ]
  },
  {
   "cell_type": "code",
   "execution_count": 105,
   "metadata": {},
   "outputs": [
    {
     "name": "stdout",
     "output_type": "stream",
     "text": [
      "ATL: Mean = 31.118 and SD = 74.814\n"
     ]
    }
   ],
   "source": [
    "print ('ATL: Mean = {0:.3f} and SD = {1:.3f}'.format(float(iatATL[['iat_mins']].mean()), \n",
    "                                                     float(iatATL[['iat_mins']].std())))"
   ]
  },
  {
   "cell_type": "markdown",
   "metadata": {},
   "source": [
    "#### Now to plotting using seaborn"
   ]
  },
  {
   "cell_type": "code",
   "execution_count": 106,
   "metadata": {
    "collapsed": true
   },
   "outputs": [],
   "source": [
    "import seaborn as sns\n",
    "%matplotlib inline"
   ]
  },
  {
   "cell_type": "code",
   "execution_count": 107,
   "metadata": {},
   "outputs": [
    {
     "data": {
      "image/png": "[encoded data removed]",
      "text/plain": [
       "<matplotlib.figure.Figure at 0x26996421dd8>"
      ]
     },
     "metadata": {},
     "output_type": "display_data"
    }
   ],
   "source": [
    "warnings.filterwarnings('ignore')\n",
    "iatATL = iatATL.dropna()\n",
    "sns.distplot(iatATL['iat_mins']);"
   ]
  },
  {
   "cell_type": "markdown",
   "metadata": {},
   "source": [
    "#### Most of interarrival time of ATL is before 200 mins"
   ]
  },
  {
   "cell_type": "markdown",
   "metadata": {},
   "source": [
    "#### Plot again using the less extreme data"
   ]
  },
  {
   "cell_type": "code",
   "execution_count": 108,
   "metadata": {},
   "outputs": [
    {
     "data": {
      "text/plain": [
       "<matplotlib.axes._subplots.AxesSubplot at 0x2698941c438>"
      ]
     },
     "execution_count": 108,
     "metadata": {},
     "output_type": "execute_result"
    },
    {
     "data": {
      "image/png": "[encoded data removed]",
      "text/plain": [
       "<matplotlib.figure.Figure at 0x26989414860>"
      ]
     },
     "metadata": {},
     "output_type": "display_data"
    }
   ],
   "source": [
    "warnings.filterwarnings('ignore')\n",
    "iatATLreduced = iatATL[iatATL['iat_mins'] <= 200]\n",
    "sns.distplot(iatATLreduced['iat_mins'])"
   ]
  },
  {
   "cell_type": "markdown",
   "metadata": {},
   "source": [
    "#### The interarrival time of ATL allocatd between 0 to 100. It means most of interarrival time of ATL are less than an hour which is a kind of short period for customer waiting. A distribution that is skewed right, the mean is typically greater than the median. "
   ]
  },
  {
   "cell_type": "code",
   "execution_count": 109,
   "metadata": {},
   "outputs": [
    {
     "data": {
      "text/html": [
       "<div>\n",
       "<table border=\"1\" class=\"dataframe\">\n",
       "  <thead>\n",
       "    <tr style=\"text-align: right;\">\n",
       "      <th></th>\n",
       "      <th>count</th>\n",
       "      <th>mean</th>\n",
       "      <th>std</th>\n",
       "      <th>min</th>\n",
       "      <th>25%</th>\n",
       "      <th>50%</th>\n",
       "      <th>75%</th>\n",
       "      <th>max</th>\n",
       "    </tr>\n",
       "  </thead>\n",
       "  <tbody>\n",
       "    <tr>\n",
       "      <th>iat</th>\n",
       "      <td>16606</td>\n",
       "      <td>0 days 00:31:37.266048</td>\n",
       "      <td>0 days 01:14:01.643826</td>\n",
       "      <td>0 days 00:00:00</td>\n",
       "      <td>0 days 00:07:00</td>\n",
       "      <td>0 days 00:16:00</td>\n",
       "      <td>0 days 00:30:00</td>\n",
       "      <td>0 days 20:06:00</td>\n",
       "    </tr>\n",
       "    <tr>\n",
       "      <th>iat_seconds</th>\n",
       "      <td>16606</td>\n",
       "      <td>1897.27</td>\n",
       "      <td>4441.64</td>\n",
       "      <td>0</td>\n",
       "      <td>420</td>\n",
       "      <td>960</td>\n",
       "      <td>1800</td>\n",
       "      <td>72360</td>\n",
       "    </tr>\n",
       "    <tr>\n",
       "      <th>iat_mins</th>\n",
       "      <td>16606</td>\n",
       "      <td>31.6211</td>\n",
       "      <td>74.0274</td>\n",
       "      <td>0</td>\n",
       "      <td>7</td>\n",
       "      <td>16</td>\n",
       "      <td>30</td>\n",
       "      <td>1206</td>\n",
       "    </tr>\n",
       "  </tbody>\n",
       "</table>\n",
       "</div>"
      ],
      "text/plain": [
       "             count                    mean                     std  \\\n",
       "iat          16606  0 days 00:31:37.266048  0 days 01:14:01.643826   \n",
       "iat_seconds  16606                 1897.27                 4441.64   \n",
       "iat_mins     16606                 31.6211                 74.0274   \n",
       "\n",
       "                         min              25%              50%  \\\n",
       "iat          0 days 00:00:00  0 days 00:07:00  0 days 00:16:00   \n",
       "iat_seconds                0              420              960   \n",
       "iat_mins                   0                7               16   \n",
       "\n",
       "                         75%              max  \n",
       "iat          0 days 00:30:00  0 days 20:06:00  \n",
       "iat_seconds             1800            72360  \n",
       "iat_mins                  30             1206  "
      ]
     },
     "execution_count": 109,
     "metadata": {},
     "output_type": "execute_result"
    }
   ],
   "source": [
    "iatORD = ORD.sort_values(by=['arrtime'])\n",
    "iatORD['iat'] = iatORD['arrtime'].diff()\n",
    "\n",
    "# Get arrival difference time in seconds\n",
    "iatORD[\"iat_seconds\"] = iatORD['iat'].dt.total_seconds()\n",
    "\n",
    "# Get arrival difference time in minutes\n",
    "iatORD[\"iat_mins\"] = iatORD['iat_seconds']/60\n",
    "\n",
    "iatORD.describe().transpose()\n",
    "iatORD = iatORD.dropna()\n",
    "\n",
    "iatORD.describe().transpose()"
   ]
  },
  {
   "cell_type": "code",
   "execution_count": 110,
   "metadata": {},
   "outputs": [
    {
     "data": {
      "image/png": "[encoded data removed]",
      "text/plain": [
       "<matplotlib.figure.Figure at 0x26994ac4cc0>"
      ]
     },
     "metadata": {},
     "output_type": "display_data"
    }
   ],
   "source": [
    "warnings.filterwarnings('ignore')\n",
    "sns.distplot(iatORD['iat_mins']);"
   ]
  },
  {
   "cell_type": "code",
   "execution_count": 113,
   "metadata": {},
   "outputs": [
    {
     "data": {
      "text/plain": [
       "<matplotlib.axes._subplots.AxesSubplot at 0x2698ebec128>"
      ]
     },
     "execution_count": 113,
     "metadata": {},
     "output_type": "execute_result"
    },
    {
     "data": {
      "image/png": "[encoded data removed]",
      "text/plain": [
       "<matplotlib.figure.Figure at 0x2698eafeeb8>"
      ]
     },
     "metadata": {},
     "output_type": "display_data"
    }
   ],
   "source": [
    "warnings.filterwarnings('ignore')\n",
    "iatORDreduced = iatORD[iatORD['iat_mins'] <= 200]\n",
    "sns.distplot(iatORDreduced['iat_mins'])"
   ]
  },
  {
   "cell_type": "code",
   "execution_count": 114,
   "metadata": {},
   "outputs": [
    {
     "data": {
      "text/html": [
       "<div>\n",
       "<table border=\"1\" class=\"dataframe\">\n",
       "  <thead>\n",
       "    <tr style=\"text-align: right;\">\n",
       "      <th></th>\n",
       "      <th>count</th>\n",
       "      <th>mean</th>\n",
       "      <th>std</th>\n",
       "      <th>min</th>\n",
       "      <th>25%</th>\n",
       "      <th>50%</th>\n",
       "      <th>75%</th>\n",
       "      <th>max</th>\n",
       "    </tr>\n",
       "  </thead>\n",
       "  <tbody>\n",
       "    <tr>\n",
       "      <th>iat</th>\n",
       "      <td>16046</td>\n",
       "      <td>0 days 00:32:45.218746</td>\n",
       "      <td>0 days 01:10:49.087066</td>\n",
       "      <td>0 days 00:00:00</td>\n",
       "      <td>0 days 00:07:00</td>\n",
       "      <td>0 days 00:17:00</td>\n",
       "      <td>0 days 00:34:00</td>\n",
       "      <td>0 days 11:37:00</td>\n",
       "    </tr>\n",
       "    <tr>\n",
       "      <th>iat_seconds</th>\n",
       "      <td>16046</td>\n",
       "      <td>1965.22</td>\n",
       "      <td>4249.09</td>\n",
       "      <td>0</td>\n",
       "      <td>420</td>\n",
       "      <td>1020</td>\n",
       "      <td>2040</td>\n",
       "      <td>41820</td>\n",
       "    </tr>\n",
       "    <tr>\n",
       "      <th>iat_mins</th>\n",
       "      <td>16046</td>\n",
       "      <td>32.7536</td>\n",
       "      <td>70.8181</td>\n",
       "      <td>0</td>\n",
       "      <td>7</td>\n",
       "      <td>17</td>\n",
       "      <td>34</td>\n",
       "      <td>697</td>\n",
       "    </tr>\n",
       "  </tbody>\n",
       "</table>\n",
       "</div>"
      ],
      "text/plain": [
       "             count                    mean                     std  \\\n",
       "iat          16046  0 days 00:32:45.218746  0 days 01:10:49.087066   \n",
       "iat_seconds  16046                 1965.22                 4249.09   \n",
       "iat_mins     16046                 32.7536                 70.8181   \n",
       "\n",
       "                         min              25%              50%  \\\n",
       "iat          0 days 00:00:00  0 days 00:07:00  0 days 00:17:00   \n",
       "iat_seconds                0              420             1020   \n",
       "iat_mins                   0                7               17   \n",
       "\n",
       "                         75%              max  \n",
       "iat          0 days 00:34:00  0 days 11:37:00  \n",
       "iat_seconds             2040            41820  \n",
       "iat_mins                  34              697  "
      ]
     },
     "execution_count": 114,
     "metadata": {},
     "output_type": "execute_result"
    }
   ],
   "source": [
    "iatLAX = LAX.sort_values(by=['arrtime'])\n",
    "iatLAX['iat'] = iatLAX['arrtime'].diff()\n",
    "\n",
    "# Get arrival difference time in seconds\n",
    "iatLAX[\"iat_seconds\"] = iatLAX['iat'].dt.total_seconds()\n",
    "\n",
    "# Get arrival difference time in minutes\n",
    "iatLAX[\"iat_mins\"] = iatLAX['iat_seconds']/60\n",
    "\n",
    "iatLAX.describe().transpose()\n",
    "iatLAX = iatLAX.dropna()\n",
    "\n",
    "iatLAX.describe().transpose()"
   ]
  },
  {
   "cell_type": "code",
   "execution_count": 115,
   "metadata": {},
   "outputs": [
    {
     "data": {
      "image/png": "[encoded data removed]",
      "text/plain": [
       "<matplotlib.figure.Figure at 0x2698eaedf98>"
      ]
     },
     "metadata": {},
     "output_type": "display_data"
    }
   ],
   "source": [
    "warnings.filterwarnings('ignore')\n",
    "sns.distplot(iatLAX['iat_mins']);"
   ]
  },
  {
   "cell_type": "code",
   "execution_count": 116,
   "metadata": {},
   "outputs": [
    {
     "data": {
      "text/plain": [
       "<matplotlib.axes._subplots.AxesSubplot at 0x2698ea590f0>"
      ]
     },
     "execution_count": 116,
     "metadata": {},
     "output_type": "execute_result"
    },
    {
     "data": {
      "image/png": "[encoded data removed]",
      "text/plain": [
       "<matplotlib.figure.Figure at 0x26989569e80>"
      ]
     },
     "metadata": {},
     "output_type": "display_data"
    }
   ],
   "source": [
    "warnings.filterwarnings('ignore')\n",
    "iatLAXreduced = iatLAX[iatLAX['iat_mins'] <= 200]\n",
    "sns.distplot(iatLAXreduced['iat_mins'])"
   ]
  },
  {
   "cell_type": "code",
   "execution_count": 117,
   "metadata": {},
   "outputs": [
    {
     "data": {
      "text/html": [
       "<div>\n",
       "<table border=\"1\" class=\"dataframe\">\n",
       "  <thead>\n",
       "    <tr style=\"text-align: right;\">\n",
       "      <th></th>\n",
       "      <th>count</th>\n",
       "      <th>mean</th>\n",
       "      <th>std</th>\n",
       "      <th>min</th>\n",
       "      <th>25%</th>\n",
       "      <th>50%</th>\n",
       "      <th>75%</th>\n",
       "      <th>max</th>\n",
       "    </tr>\n",
       "  </thead>\n",
       "  <tbody>\n",
       "    <tr>\n",
       "      <th>iat</th>\n",
       "      <td>15019</td>\n",
       "      <td>0 days 00:34:57.599041</td>\n",
       "      <td>0 days 01:07:35.818239</td>\n",
       "      <td>0 days 00:00:00</td>\n",
       "      <td>0 days 00:08:00</td>\n",
       "      <td>0 days 00:19:00</td>\n",
       "      <td>0 days 00:38:00</td>\n",
       "      <td>1 days 10:03:00</td>\n",
       "    </tr>\n",
       "    <tr>\n",
       "      <th>iat_seconds</th>\n",
       "      <td>15019</td>\n",
       "      <td>2097.6</td>\n",
       "      <td>4055.82</td>\n",
       "      <td>0</td>\n",
       "      <td>480</td>\n",
       "      <td>1140</td>\n",
       "      <td>2280</td>\n",
       "      <td>122580</td>\n",
       "    </tr>\n",
       "    <tr>\n",
       "      <th>iat_mins</th>\n",
       "      <td>15019</td>\n",
       "      <td>34.96</td>\n",
       "      <td>67.597</td>\n",
       "      <td>0</td>\n",
       "      <td>8</td>\n",
       "      <td>19</td>\n",
       "      <td>38</td>\n",
       "      <td>2043</td>\n",
       "    </tr>\n",
       "  </tbody>\n",
       "</table>\n",
       "</div>"
      ],
      "text/plain": [
       "             count                    mean                     std  \\\n",
       "iat          15019  0 days 00:34:57.599041  0 days 01:07:35.818239   \n",
       "iat_seconds  15019                  2097.6                 4055.82   \n",
       "iat_mins     15019                   34.96                  67.597   \n",
       "\n",
       "                         min              25%              50%  \\\n",
       "iat          0 days 00:00:00  0 days 00:08:00  0 days 00:19:00   \n",
       "iat_seconds                0              480             1140   \n",
       "iat_mins                   0                8               19   \n",
       "\n",
       "                         75%              max  \n",
       "iat          0 days 00:38:00  1 days 10:03:00  \n",
       "iat_seconds             2280           122580  \n",
       "iat_mins                  38             2043  "
      ]
     },
     "execution_count": 117,
     "metadata": {},
     "output_type": "execute_result"
    }
   ],
   "source": [
    "iatBOS = BOS.sort_values(by=['arrtime'])\n",
    "iatBOS['iat'] = iatBOS['arrtime'].diff()\n",
    "\n",
    "# Get arrival difference time in seconds\n",
    "iatBOS[\"iat_seconds\"] = iatBOS['iat'].dt.total_seconds()\n",
    "\n",
    "# Get arrival difference time in minutes\n",
    "iatBOS[\"iat_mins\"] = iatBOS['iat_seconds']/60\n",
    "\n",
    "iatBOS.describe().transpose()\n",
    "iatBOS = iatBOS.dropna()\n",
    "\n",
    "iatBOS.describe().transpose()"
   ]
  },
  {
   "cell_type": "code",
   "execution_count": 118,
   "metadata": {},
   "outputs": [
    {
     "data": {
      "image/png": "[encoded data removed]",
      "text/plain": [
       "<matplotlib.figure.Figure at 0x269894ed390>"
      ]
     },
     "metadata": {},
     "output_type": "display_data"
    }
   ],
   "source": [
    "warnings.filterwarnings('ignore')\n",
    "sns.distplot(iatBOS['iat_mins']);"
   ]
  },
  {
   "cell_type": "code",
   "execution_count": 119,
   "metadata": {},
   "outputs": [
    {
     "data": {
      "text/plain": [
       "<matplotlib.axes._subplots.AxesSubplot at 0x2698d2b0eb8>"
      ]
     },
     "execution_count": 119,
     "metadata": {},
     "output_type": "execute_result"
    },
    {
     "data": {
      "image/png": "[encoded data removed]",
      "text/plain": [
       "<matplotlib.figure.Figure at 0x2698d1e8c88>"
      ]
     },
     "metadata": {},
     "output_type": "display_data"
    }
   ],
   "source": [
    "warnings.filterwarnings('ignore')\n",
    "iatBOSreduced = iatBOS[iatBOS['iat_mins'] <= 200]\n",
    "sns.distplot(iatBOSreduced['iat_mins'])"
   ]
  },
  {
   "cell_type": "code",
   "execution_count": 120,
   "metadata": {},
   "outputs": [
    {
     "data": {
      "text/html": [
       "<div>\n",
       "<table border=\"1\" class=\"dataframe\">\n",
       "  <thead>\n",
       "    <tr style=\"text-align: right;\">\n",
       "      <th></th>\n",
       "      <th>count</th>\n",
       "      <th>mean</th>\n",
       "      <th>std</th>\n",
       "      <th>min</th>\n",
       "      <th>25%</th>\n",
       "      <th>50%</th>\n",
       "      <th>75%</th>\n",
       "      <th>max</th>\n",
       "    </tr>\n",
       "  </thead>\n",
       "  <tbody>\n",
       "    <tr>\n",
       "      <th>iat</th>\n",
       "      <td>13972</td>\n",
       "      <td>0 days 00:37:36.836530</td>\n",
       "      <td>0 days 01:14:23.796204</td>\n",
       "      <td>0 days 00:00:00</td>\n",
       "      <td>0 days 00:09:00</td>\n",
       "      <td>0 days 00:21:00</td>\n",
       "      <td>0 days 00:40:00</td>\n",
       "      <td>0 days 19:27:00</td>\n",
       "    </tr>\n",
       "    <tr>\n",
       "      <th>iat_seconds</th>\n",
       "      <td>13972</td>\n",
       "      <td>2256.84</td>\n",
       "      <td>4463.8</td>\n",
       "      <td>0</td>\n",
       "      <td>540</td>\n",
       "      <td>1260</td>\n",
       "      <td>2400</td>\n",
       "      <td>70020</td>\n",
       "    </tr>\n",
       "    <tr>\n",
       "      <th>iat_mins</th>\n",
       "      <td>13972</td>\n",
       "      <td>37.6139</td>\n",
       "      <td>74.3966</td>\n",
       "      <td>0</td>\n",
       "      <td>9</td>\n",
       "      <td>21</td>\n",
       "      <td>40</td>\n",
       "      <td>1167</td>\n",
       "    </tr>\n",
       "  </tbody>\n",
       "</table>\n",
       "</div>"
      ],
      "text/plain": [
       "             count                    mean                     std  \\\n",
       "iat          13972  0 days 00:37:36.836530  0 days 01:14:23.796204   \n",
       "iat_seconds  13972                 2256.84                  4463.8   \n",
       "iat_mins     13972                 37.6139                 74.3966   \n",
       "\n",
       "                         min              25%              50%  \\\n",
       "iat          0 days 00:00:00  0 days 00:09:00  0 days 00:21:00   \n",
       "iat_seconds                0              540             1260   \n",
       "iat_mins                   0                9               21   \n",
       "\n",
       "                         75%              max  \n",
       "iat          0 days 00:40:00  0 days 19:27:00  \n",
       "iat_seconds             2400            70020  \n",
       "iat_mins                  40             1167  "
      ]
     },
     "execution_count": 120,
     "metadata": {},
     "output_type": "execute_result"
    }
   ],
   "source": [
    "iatMCO = MCO.sort_values(by=['arrtime'])\n",
    "iatMCO['iat'] = iatMCO['arrtime'].diff()\n",
    "\n",
    "# Get arrival difference time in seconds\n",
    "iatMCO[\"iat_seconds\"] = iatMCO['iat'].dt.total_seconds()\n",
    "\n",
    "# Get arrival difference time in minutes\n",
    "iatMCO[\"iat_mins\"] = iatMCO['iat_seconds']/60\n",
    "\n",
    "iatMCO.describe().transpose()\n",
    "iatMCO = iatMCO.dropna()\n",
    "\n",
    "iatMCO.describe().transpose()"
   ]
  },
  {
   "cell_type": "code",
   "execution_count": 121,
   "metadata": {},
   "outputs": [
    {
     "data": {
      "image/png": "[encoded data removed]",
      "text/plain": [
       "<matplotlib.figure.Figure at 0x26985646198>"
      ]
     },
     "metadata": {},
     "output_type": "display_data"
    }
   ],
   "source": [
    "warnings.filterwarnings('ignore')\n",
    "sns.distplot(iatMCO['iat_mins']);"
   ]
  },
  {
   "cell_type": "code",
   "execution_count": 122,
   "metadata": {},
   "outputs": [
    {
     "data": {
      "text/plain": [
       "<matplotlib.axes._subplots.AxesSubplot at 0x2698416be10>"
      ]
     },
     "execution_count": 122,
     "metadata": {},
     "output_type": "execute_result"
    },
    {
     "data": {
      "image/png": "[encoded data removed]",
      "text/plain": [
       "<matplotlib.figure.Figure at 0x269918f40b8>"
      ]
     },
     "metadata": {},
     "output_type": "display_data"
    }
   ],
   "source": [
    "warnings.filterwarnings('ignore')\n",
    "iatMCOreduced = iatMCO[iatMCO['iat_mins'] <= 200]\n",
    "sns.distplot(iatBOSreduced['iat_mins'])"
   ]
  },
  {
   "cell_type": "code",
   "execution_count": 123,
   "metadata": {},
   "outputs": [
    {
     "name": "stdout",
     "output_type": "stream",
     "text": [
      "ATL: Mean = 31.118 and SD = 74.814\n",
      "ORD: Mean = 31.621 and SD = 74.027\n",
      "LAX: Mean = 32.754 and SD = 70.818\n",
      "BOS: Mean = 34.960 and SD = 67.597\n",
      "MCO: Mean = 37.614 and SD = 74.397\n"
     ]
    }
   ],
   "source": [
    "print ('ATL: Mean = {0:.3f} and SD = {1:.3f}'.format(float(iatATL[['iat_mins']].mean()), \n",
    "                                                     float(iatATL[['iat_mins']].std())))\n",
    "print ('ORD: Mean = {0:.3f} and SD = {1:.3f}'.format(float(iatORD[['iat_mins']].mean()), \n",
    "                                                     float(iatORD[['iat_mins']].std())))\n",
    "print ('LAX: Mean = {0:.3f} and SD = {1:.3f}'.format(float(iatLAX[['iat_mins']].mean()), \n",
    "                                                     float(iatLAX[['iat_mins']].std())))\n",
    "print ('BOS: Mean = {0:.3f} and SD = {1:.3f}'.format(float(iatBOS[['iat_mins']].mean()), \n",
    "                                                     float(iatBOS[['iat_mins']].std())))\n",
    "print ('MCO: Mean = {0:.3f} and SD = {1:.3f}'.format(float(iatMCO[['iat_mins']].mean()), \n",
    "                                                     float(iatMCO[['iat_mins']].std())))"
   ]
  },
  {
   "cell_type": "code",
   "execution_count": 124,
   "metadata": {},
   "outputs": [
    {
     "data": {
      "text/plain": [
       "<matplotlib.axes._subplots.AxesSubplot at 0x2698e766908>"
      ]
     },
     "execution_count": 124,
     "metadata": {},
     "output_type": "execute_result"
    },
    {
     "data": {
      "image/png": "[encoded data removed]",
      "text/plain": [
       "<matplotlib.figure.Figure at 0x269841b4d68>"
      ]
     },
     "metadata": {},
     "output_type": "display_data"
    }
   ],
   "source": [
    "warnings.filterwarnings('ignore')\n",
    "sns.distplot(iatATLreduced['iat_mins'])\n",
    "sns.distplot(iatORDreduced['iat_mins'])\n",
    "sns.distplot(iatLAXreduced['iat_mins'])\n",
    "sns.distplot(iatBOSreduced['iat_mins'])\n",
    "sns.distplot(iatMCOreduced['iat_mins'])"
   ]
  },
  {
   "cell_type": "code",
   "execution_count": 143,
   "metadata": {},
   "outputs": [
    {
     "data": {
      "text/plain": [
       "(0, 0.04)"
      ]
     },
     "execution_count": 143,
     "metadata": {},
     "output_type": "execute_result"
    },
    {
     "data": {
      "image/png": "[encoded data removed]",
      "text/plain": [
       "<matplotlib.figure.Figure at 0x26983765ba8>"
      ]
     },
     "metadata": {},
     "output_type": "display_data"
    }
   ],
   "source": [
    "import matplotlib.pyplot as plt\n",
    "# Effectively using matplotlib -- http://pbpython.com/effective-matplotlib.html\n",
    "sns.set_context(\"notebook\", font_scale=0.75, rc={\"lines.linewidth\": 1.5})\n",
    "\n",
    "fig, axs = plt.subplots(nrows=3,ncols=2, dpi=200)\n",
    "fig.subplots_adjust(left=None, bottom=None, right=None, top=1.5, wspace=0.25, hspace=0.35)\n",
    "# https://stackoverflow.com/questions/6541123/improve-subplot-size-spacing-with-many-subplots-in-matplotlib\n",
    "# https://stackoverflow.com/questions/15858192/how-to-set-xlim-and-ylim-for-a-subplot-in-matplotlib\n",
    "#fig.tight_layout() \n",
    "\n",
    "sns.distplot(iatATLreduced['iat_mins'], ax=axs[0,0])\n",
    "axs[0,0].set(title=\"ATL\")\n",
    "axs[0,0].set_xlim([0, 200]); axs[0,0].set_ylim([0, 0.04])\n",
    "sns.distplot(iatORDreduced['iat_mins'], ax=axs[0,1])\n",
    "axs[0,1].set(title=\"ORD\")\n",
    "axs[0,1].set_xlim([0, 200]); axs[0,1].set_ylim([0, 0.04])\n",
    "sns.distplot(iatLAXreduced['iat_mins'], ax=axs[1,0])\n",
    "axs[1,0].set(title=\"LAX\")\n",
    "axs[1,0].set_xlim([0, 200]); axs[1,0].set_ylim([0, 0.04])\n",
    "sns.distplot(iatBOSreduced['iat_mins'], ax=axs[1,1]) \n",
    "axs[1,1].set(title=\"BOS\")\n",
    "axs[1,1].set_xlim([0, 200]); axs[1,1].set_ylim([0, 0.04])\n",
    "sns.distplot(iatMCOreduced['iat_mins'], ax=axs[2,0])\n",
    "axs[2,0].set(title=\"MCO\")\n",
    "axs[2,0].set_xlim([0, 200]); axs[2,0].set_ylim([0, 0.04])"
   ]
  }
 ],
 "metadata": {
  "kernelspec": {
   "display_name": "Python 3",
   "language": "python",
   "name": "python3"
  },
  "language_info": {
   "codemirror_mode": {
    "name": "ipython",
    "version": 3
   },
   "file_extension": ".py",
   "mimetype": "text/x-python",
   "name": "python",
   "nbconvert_exporter": "python",
   "pygments_lexer": "ipython3",
   "version": "3.6.3"
  }
 },
 "nbformat": 4,
 "nbformat_minor": 2
}
